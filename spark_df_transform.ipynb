{
 "cells": [
  {
   "cell_type": "code",
   "execution_count": 0,
   "metadata": {
    "application/vnd.databricks.v1+cell": {
     "cellMetadata": {
      "byteLimit": 2048000,
      "rowLimit": 10000
     },
     "inputWidgets": {},
     "nuid": "714857fa-35e9-45e3-a6d3-1d16a0cc7f91",
     "showTitle": false,
     "title": ""
    }
   },
   "outputs": [],
   "source": [
    "from pyspark.sql.functions import *"
   ]
  },
  {
   "cell_type": "code",
   "execution_count": 0,
   "metadata": {
    "application/vnd.databricks.v1+cell": {
     "cellMetadata": {
      "byteLimit": 2048000,
      "rowLimit": 10000
     },
     "inputWidgets": {},
     "nuid": "6fac9a4c-8d5f-4eda-aca1-180eb49086c1",
     "showTitle": false,
     "title": ""
    }
   },
   "outputs": [],
   "source": [
    "raw_fire_df = spark.read \\\n",
    "    .format(\"csv\") \\\n",
    "    .option(\"header\", \"true\") \\\n",
    "    .option(\"inferSchema\",\"true\") \\\n",
    "    .load(\"/databricks-datasets/learning-spark-v2/sf-fire/sf-fire-calls.csv\")"
   ]
  },
  {
   "cell_type": "code",
   "execution_count": 0,
   "metadata": {
    "application/vnd.databricks.v1+cell": {
     "cellMetadata": {
      "byteLimit": 2048000,
      "rowLimit": 10000
     },
     "inputWidgets": {},
     "nuid": "3a45840e-00d7-403c-bcb5-f4c2b0e1dbba",
     "showTitle": false,
     "title": ""
    }
   },
   "outputs": [],
   "source": [
    "renamed_fire_df = raw_fire_df \\\n",
    "    .withColumnRenamed(\"Call Number\", \"CallNumber\") \\\n",
    "    .withColumnRenamed(\"Unit ID\", \"UnitID\") \\\n",
    "    .withColumnRenamed(\"Incident Number\", \"IncidentNumber\") \\\n",
    "    .withColumnRenamed(\"Call Date\", \"CallDate\") \\\n",
    "    .withColumnRenamed(\"Watch Date\", \"WatchDate\") \\\n",
    "    .withColumnRenamed(\"Call Final Disposition\", \"CallFinalDisposition\") \\\n",
    "    .withColumnRenamed(\"Available DtTm\", \"AvailableDtTm\") \\\n",
    "    .withColumnRenamed(\"Zipcode of Incident\", \"Zipcode\") \\\n",
    "    .withColumnRenamed(\"Station Area\", \"StationArea\") \\\n",
    "    .withColumnRenamed(\"Final Priority\", \"FinalPriority\") \\\n",
    "    .withColumnRenamed(\"ALS Unit\", \"ALSUnit\") \\\n",
    "    .withColumnRenamed(\"Call Type Group\", \"CallTypeGroup\") \\\n",
    "    .withColumnRenamed(\"Unit sequence in call dispatch\", \"UnitSequenceInCallDispatch\") \\\n",
    "    .withColumnRenamed(\"Fire Prevention District\", \"FirePreventionDistrict\") \\\n",
    "    .withColumnRenamed(\"Supervisor District\", \"SupervisorDistrict\")"
   ]
  },
  {
   "cell_type": "code",
   "execution_count": 0,
   "metadata": {
    "application/vnd.databricks.v1+cell": {
     "cellMetadata": {
      "byteLimit": 2048000,
      "rowLimit": 10000
     },
     "inputWidgets": {},
     "nuid": "12343768-27f0-4b8c-bd7d-e43ea856ea6a",
     "showTitle": false,
     "title": ""
    }
   },
   "outputs": [
    {
     "output_type": "stream",
     "name": "stdout",
     "output_type": "stream",
     "text": [
      "root\n |-- CallNumber: integer (nullable = true)\n |-- UnitID: string (nullable = true)\n |-- IncidentNumber: integer (nullable = true)\n |-- CallType: string (nullable = true)\n |-- CallDate: date (nullable = true)\n |-- WatchDate: date (nullable = true)\n |-- CallFinalDisposition: string (nullable = true)\n |-- AvailableDtTm: string (nullable = true)\n |-- Address: string (nullable = true)\n |-- City: string (nullable = true)\n |-- Zipcode: integer (nullable = true)\n |-- Battalion: string (nullable = true)\n |-- StationArea: string (nullable = true)\n |-- Box: string (nullable = true)\n |-- OrigPriority: string (nullable = true)\n |-- Priority: string (nullable = true)\n |-- FinalPriority: integer (nullable = true)\n |-- ALSUnit: boolean (nullable = true)\n |-- CallTypeGroup: string (nullable = true)\n |-- NumAlarms: integer (nullable = true)\n |-- UnitType: string (nullable = true)\n |-- UnitSequenceInCallDispatch: integer (nullable = true)\n |-- FirePreventionDistrict: string (nullable = true)\n |-- SupervisorDistrict: string (nullable = true)\n |-- Neighborhood: string (nullable = true)\n |-- Location: string (nullable = true)\n |-- RowID: string (nullable = true)\n |-- Delay: double (nullable = true)\n\n"
     ]
    }
   ],
   "source": [
    "renamed_fire_df.printSchema()"
   ]
  },
  {
   "cell_type": "code",
   "execution_count": 0,
   "metadata": {
    "application/vnd.databricks.v1+cell": {
     "cellMetadata": {
      "byteLimit": 2048000,
      "rowLimit": 10000
     },
     "inputWidgets": {},
     "nuid": "1bfbd70e-ee18-49d6-affd-bc4033116772",
     "showTitle": false,
     "title": ""
    }
   },
   "outputs": [],
   "source": [
    "fire_df = renamed_fire_df \\\n",
    "    .withColumn(\"Delay\", round(\"Delay\", 2))"
   ]
  },
  {
   "cell_type": "code",
   "execution_count": 0,
   "metadata": {
    "application/vnd.databricks.v1+cell": {
     "cellMetadata": {
      "byteLimit": 2048000,
      "rowLimit": 10000
     },
     "inputWidgets": {},
     "nuid": "4ed3cca5-aac7-4529-bbec-8c8c85e11b5d",
     "showTitle": false,
     "title": ""
    }
   },
   "outputs": [
    {
     "output_type": "stream",
     "name": "stdout",
     "output_type": "stream",
     "text": [
      "root\n |-- CallNumber: integer (nullable = true)\n |-- UnitID: string (nullable = true)\n |-- IncidentNumber: integer (nullable = true)\n |-- CallType: string (nullable = true)\n |-- CallDate: date (nullable = true)\n |-- WatchDate: date (nullable = true)\n |-- CallFinalDisposition: string (nullable = true)\n |-- AvailableDtTm: string (nullable = true)\n |-- Address: string (nullable = true)\n |-- City: string (nullable = true)\n |-- Zipcode: integer (nullable = true)\n |-- Battalion: string (nullable = true)\n |-- StationArea: string (nullable = true)\n |-- Box: string (nullable = true)\n |-- OrigPriority: string (nullable = true)\n |-- Priority: string (nullable = true)\n |-- FinalPriority: integer (nullable = true)\n |-- ALSUnit: boolean (nullable = true)\n |-- CallTypeGroup: string (nullable = true)\n |-- NumAlarms: integer (nullable = true)\n |-- UnitType: string (nullable = true)\n |-- UnitSequenceInCallDispatch: integer (nullable = true)\n |-- FirePreventionDistrict: string (nullable = true)\n |-- SupervisorDistrict: string (nullable = true)\n |-- Neighborhood: string (nullable = true)\n |-- Location: string (nullable = true)\n |-- RowID: string (nullable = true)\n |-- Delay: double (nullable = true)\n\n"
     ]
    }
   ],
   "source": [
    "fire_df.printSchema()"
   ]
  },
  {
   "cell_type": "code",
   "execution_count": 0,
   "metadata": {
    "application/vnd.databricks.v1+cell": {
     "cellMetadata": {
      "byteLimit": 2048000,
      "rowLimit": 10000
     },
     "inputWidgets": {},
     "nuid": "2cf3909b-63a5-4140-a744-b3ff9213544e",
     "showTitle": false,
     "title": ""
    }
   },
   "outputs": [
    {
     "output_type": "stream",
     "name": "stdout",
     "output_type": "stream",
     "text": [
      "Out[10]: DataFrame[CallNumber: int, UnitID: string, IncidentNumber: int, CallType: string, CallDate: date, WatchDate: date, CallFinalDisposition: string, AvailableDtTm: string, Address: string, City: string, Zipcode: int, Battalion: string, StationArea: string, Box: string, OrigPriority: string, Priority: string, FinalPriority: int, ALSUnit: boolean, CallTypeGroup: string, NumAlarms: int, UnitType: string, UnitSequenceInCallDispatch: int, FirePreventionDistrict: string, SupervisorDistrict: string, Neighborhood: string, Location: string, RowID: string, Delay: double]"
     ]
    }
   ],
   "source": [
    "fire_df.cache()"
   ]
  },
  {
   "cell_type": "code",
   "execution_count": 0,
   "metadata": {
    "application/vnd.databricks.v1+cell": {
     "cellMetadata": {},
     "inputWidgets": {},
     "nuid": "95d767f9-5af0-44f3-b8c7-8c423f613e1f",
     "showTitle": false,
     "title": ""
    }
   },
   "outputs": [],
   "source": []
  },
  {
   "cell_type": "code",
   "execution_count": 0,
   "metadata": {
    "application/vnd.databricks.v1+cell": {
     "cellMetadata": {
      "byteLimit": 2048000,
      "rowLimit": 10000
     },
     "inputWidgets": {},
     "nuid": "b61d18a6-e33c-49f5-a7b5-8a25ede00741",
     "showTitle": false,
     "title": ""
    }
   },
   "outputs": [
    {
     "output_type": "stream",
     "name": "stdout",
     "output_type": "stream",
     "text": [
      "+----------+------+--------------+----------------+----------+----------+--------------------+--------------------+--------------------+----+-------+---------+-----------+----+------------+--------+-------------+-------+-------------+---------+------------+--------------------------+----------------------+------------------+---------------+--------------------+-------------+-----+\n|CallNumber|UnitID|IncidentNumber|        CallType|  CallDate| WatchDate|CallFinalDisposition|       AvailableDtTm|             Address|City|Zipcode|Battalion|StationArea| Box|OrigPriority|Priority|FinalPriority|ALSUnit|CallTypeGroup|NumAlarms|    UnitType|UnitSequenceInCallDispatch|FirePreventionDistrict|SupervisorDistrict|   Neighborhood|            Location|        RowID|Delay|\n+----------+------+--------------+----------------+----------+----------+--------------------+--------------------+--------------------+----+-------+---------+-----------+----+------------+--------+-------------+-------+-------------+---------+------------+--------------------------+----------------------+------------------+---------------+--------------------+-------------+-----+\n|  20110014|   M29|       2003234|Medical Incident|2002-01-11|2002-01-10|               Other|01/11/2002 01:58:...|   10TH ST/MARKET ST|  SF|  94103|      B02|         36|2338|           1|       1|            2|   true|         null|        1|       MEDIC|                         1|                     2|                 6|     Tenderloin|(37.7765408927183...|020110014-M29| 5.23|\n|  20110015|   M08|       2003233|Medical Incident|2002-01-11|2002-01-10|               Other|01/11/2002 02:10:...| 300 Block of 5TH ST|  SF|  94107|      B03|         08|2243|           1|       1|            2|   true|         null|        1|       MEDIC|                         1|                     3|                 6|South of Market|(37.7792841462441...|020110015-M08| 3.08|\n|  20110016|   B02|       2003235|  Structure Fire|2002-01-11|2002-01-10|               Other|01/11/2002 01:47:...|2000 Block of CAL...|  SF|  94109|      B04|         38|3362|           3|       3|            3|  false|         null|        1|       CHIEF|                         6|                     4|                 5|Pacific Heights|(37.7895840679362...|020110016-B02| 3.05|\n|  20110016|   B04|       2003235|  Structure Fire|2002-01-11|2002-01-10|               Other|01/11/2002 01:51:...|2000 Block of CAL...|  SF|  94109|      B04|         38|3362|           3|       3|            3|  false|         null|        1|       CHIEF|                         3|                     4|                 5|Pacific Heights|(37.7895840679362...|020110016-B04| 2.32|\n|  20110016|    D2|       2003235|  Structure Fire|2002-01-11|2002-01-10|               Other|01/11/2002 01:47:...|2000 Block of CAL...|  SF|  94109|      B04|         38|3362|           3|       3|            3|  false|         null|        1|       CHIEF|                         4|                     4|                 5|Pacific Heights|(37.7895840679362...| 020110016-D2| 3.02|\n|  20110016|   E03|       2003235|  Structure Fire|2002-01-11|2002-01-10|               Other|01/11/2002 01:47:...|2000 Block of CAL...|  SF|  94109|      B04|         38|3362|           3|       3|            3|  false|         null|        1|      ENGINE|                         7|                     4|                 5|Pacific Heights|(37.7895840679362...|020110016-E03| 2.68|\n|  20110016|   E38|       2003235|  Structure Fire|2002-01-11|2002-01-10|               Other|01/11/2002 01:51:...|2000 Block of CAL...|  SF|  94109|      B04|         38|3362|           3|       3|            3|  false|         null|        1|      ENGINE|                         1|                     4|                 5|Pacific Heights|(37.7895840679362...|020110016-E38|  2.1|\n|  20110016|   E41|       2003235|  Structure Fire|2002-01-11|2002-01-10|               Other|01/11/2002 01:47:...|2000 Block of CAL...|  SF|  94109|      B04|         38|3362|           3|       3|            3|  false|         null|        1|      ENGINE|                         8|                     4|                 5|Pacific Heights|(37.7895840679362...|020110016-E41| 2.72|\n|  20110016|   M03|       2003235|  Structure Fire|2002-01-11|2002-01-10|               Other|01/11/2002 01:46:...|2000 Block of CAL...|  SF|  94109|      B04|         38|3362|           3|       3|            3|   true|         null|        1|       MEDIC|                        10|                     4|                 5|Pacific Heights|(37.7895840679362...|020110016-M03| 2.77|\n|  20110016|   RS1|       2003235|  Structure Fire|2002-01-11|2002-01-10|               Other|01/11/2002 01:46:...|2000 Block of CAL...|  SF|  94109|      B04|         38|3362|           3|       3|            3|  false|         null|        1|RESCUE SQUAD|                         9|                     4|                 5|Pacific Heights|(37.7895840679362...|020110016-RS1| 3.27|\n+----------+------+--------------+----------------+----------+----------+--------------------+--------------------+--------------------+----+-------+---------+-----------+----+------------+--------+-------------+-------+-------------+---------+------------+--------------------------+----------------------+------------------+---------------+--------------------+-------------+-----+\nonly showing top 10 rows\n\n"
     ]
    }
   ],
   "source": [
    "fire_df.show(10)"
   ]
  },
  {
   "cell_type": "markdown",
   "metadata": {
    "application/vnd.databricks.v1+cell": {
     "cellMetadata": {},
     "inputWidgets": {},
     "nuid": "7596246e-e79c-4e85-81eb-d05047216212",
     "showTitle": false,
     "title": ""
    }
   },
   "source": [
    "##### Q1. How many distinct types of calls were made to the Fire Department?\n",
    "```SQL\n",
    "select count(distinct CallType) as distinct_call_type_count\n",
    "from fire_service_calls_tbl\n",
    "where CallType is not null\n",
    "```"
   ]
  },
  {
   "cell_type": "code",
   "execution_count": 0,
   "metadata": {
    "application/vnd.databricks.v1+cell": {
     "cellMetadata": {
      "byteLimit": 2048000,
      "rowLimit": 10000
     },
     "inputWidgets": {},
     "nuid": "92360fa0-13d4-4834-bfc6-bf462125e615",
     "showTitle": false,
     "title": ""
    }
   },
   "outputs": [
    {
     "output_type": "stream",
     "name": "stdout",
     "output_type": "stream",
     "text": [
      "+------------------------+\n|distinct_call_type_count|\n+------------------------+\n|                      32|\n+------------------------+\n\n"
     ]
    }
   ],
   "source": [
    "fire_df.createOrReplaceTempView(\"fire_service_calls_view\")\n",
    "q1_sql_df = spark.sql(\"\"\"\n",
    "        select count(distinct CallType) as distinct_call_type_count\n",
    "        from fire_service_calls_view\n",
    "        where CallType is not null\n",
    "        \"\"\")\n",
    "q1_sql_df.show(10)"
   ]
  },
  {
   "cell_type": "code",
   "execution_count": 0,
   "metadata": {
    "application/vnd.databricks.v1+cell": {
     "cellMetadata": {
      "byteLimit": 2048000,
      "rowLimit": 10000
     },
     "inputWidgets": {},
     "nuid": "6efce8ff-052a-4bdf-9c1c-0602a4837653",
     "showTitle": false,
     "title": ""
    }
   },
   "outputs": [
    {
     "output_type": "stream",
     "name": "stdout",
     "output_type": "stream",
     "text": [
      "32\n"
     ]
    }
   ],
   "source": [
    "q1_df = fire_df.where(\"CallType is not null\") \\\n",
    "            .select(\"CallType\") \\\n",
    "            .distinct()\n",
    "print(q1_df.count())"
   ]
  },
  {
   "cell_type": "code",
   "execution_count": 0,
   "metadata": {
    "application/vnd.databricks.v1+cell": {
     "cellMetadata": {
      "byteLimit": 2048000,
      "rowLimit": 10000
     },
     "inputWidgets": {},
     "nuid": "cbdf0db8-e0a3-41b7-b672-b134b6c811ba",
     "showTitle": false,
     "title": ""
    }
   },
   "outputs": [
    {
     "output_type": "stream",
     "name": "stdout",
     "output_type": "stream",
     "text": [
      "32\n"
     ]
    }
   ],
   "source": [
    "q1_df1 = fire_df.where(\"CallType is not null\")\n",
    "q1_df2 = q1_df1.select(\"CallType\")\n",
    "q1_df3 = q1_df2.distinct()\n",
    "print(q1_df3.count())"
   ]
  },
  {
   "cell_type": "markdown",
   "metadata": {
    "application/vnd.databricks.v1+cell": {
     "cellMetadata": {},
     "inputWidgets": {},
     "nuid": "7d4f11c9-374c-41df-b4bb-9a0d812a7975",
     "showTitle": false,
     "title": ""
    }
   },
   "source": [
    "##### Q2. What were distinct types of calls made to the Fire Department?\n",
    "```sql\n",
    "select distinct CallType as distinct_call_types\n",
    "from fire_service_calls_tbl\n",
    "where CallType is not null\n",
    "```"
   ]
  },
  {
   "cell_type": "code",
   "execution_count": 0,
   "metadata": {
    "application/vnd.databricks.v1+cell": {
     "cellMetadata": {
      "byteLimit": 2048000,
      "rowLimit": 10000
     },
     "inputWidgets": {},
     "nuid": "d403586e-9a07-47e7-9aeb-b987299fe50e",
     "showTitle": false,
     "title": ""
    }
   },
   "outputs": [
    {
     "output_type": "stream",
     "name": "stdout",
     "output_type": "stream",
     "text": [
      "+--------------------+\n|  distinct_call_type|\n+--------------------+\n|              Alarms|\n|Odor (Strange / U...|\n|Citizen Assist / ...|\n|        Vehicle Fire|\n|               Other|\n|        Outside Fire|\n|   Electrical Hazard|\n|      Structure Fire|\n|    Medical Incident|\n|          Fuel Spill|\n+--------------------+\nonly showing top 10 rows\n\n"
     ]
    }
   ],
   "source": [
    "q2_df = fire_df.where(\"CallType is not null\") \\\n",
    "               .select(expr(\"CallType as distinct_call_type\")) \\\n",
    "               .distinct()\n",
    "q2_df.show(10)"
   ]
  },
  {
   "cell_type": "markdown",
   "metadata": {
    "application/vnd.databricks.v1+cell": {
     "cellMetadata": {},
     "inputWidgets": {},
     "nuid": "85b11023-f976-465a-9aed-0d7de4383722",
     "showTitle": false,
     "title": ""
    }
   },
   "source": [
    "##### Q3. Find out all response for delayed times greater than 5 mins?\n",
    "``` sql\n",
    "select CallNumber, Delay\n",
    "from fire_service_calls_tbl\n",
    "where Delay > 5\n",
    "```"
   ]
  },
  {
   "cell_type": "code",
   "execution_count": 0,
   "metadata": {
    "application/vnd.databricks.v1+cell": {
     "cellMetadata": {
      "byteLimit": 2048000,
      "rowLimit": 10000
     },
     "inputWidgets": {},
     "nuid": "06543f39-21ea-4bda-a228-03257788c5f9",
     "showTitle": false,
     "title": ""
    }
   },
   "outputs": [
    {
     "output_type": "stream",
     "name": "stdout",
     "output_type": "stream",
     "text": [
      "+----------+-----+\n|CallNumber|Delay|\n+----------+-----+\n|  20110014| 5.23|\n|  20110017| 6.93|\n|  20110019| 6.12|\n|  20110039| 7.85|\n|  20110045|77.33|\n|  20110046| 5.42|\n|  20110055|  6.5|\n|  20110058| 6.85|\n|  20110058| 6.85|\n|  20110061| 6.33|\n|  20110062| 7.02|\n|  20110066|  9.1|\n|  20110068| 5.98|\n|  20110070| 5.42|\n|  20110070| 5.08|\n|  20110070| 8.18|\n|  20110070| 5.98|\n|  20110077|18.07|\n|  20110103| 5.55|\n|  20110103| 5.97|\n+----------+-----+\nonly showing top 20 rows\n\n"
     ]
    }
   ],
   "source": [
    "fire_df.where(\"Delay > 5\") \\\n",
    "    .select(\"CallNumber\", \"Delay\") \\\n",
    "    .show()"
   ]
  },
  {
   "cell_type": "markdown",
   "metadata": {
    "application/vnd.databricks.v1+cell": {
     "cellMetadata": {},
     "inputWidgets": {},
     "nuid": "d682e1e3-28f2-4cb1-87af-3b2a41fa1f9f",
     "showTitle": false,
     "title": ""
    }
   },
   "source": [
    "##### Q4. What were the most common call types?\n",
    "```sql\n",
    "select CallType, count(*) as count\n",
    "from fire_service_calls_tbl\n",
    "where CallType is not null\n",
    "group by CallType\n",
    "order by count desc\n",
    "```"
   ]
  },
  {
   "cell_type": "code",
   "execution_count": 0,
   "metadata": {
    "application/vnd.databricks.v1+cell": {
     "cellMetadata": {
      "byteLimit": 2048000,
      "rowLimit": 10000
     },
     "inputWidgets": {},
     "nuid": "b8c3327f-104b-4e9e-b941-9b0a57571d0b",
     "showTitle": false,
     "title": ""
    }
   },
   "outputs": [
    {
     "output_type": "stream",
     "name": "stdout",
     "output_type": "stream",
     "text": [
      "+--------------------+-------+\n|            CallType|  count|\n+--------------------+-------+\n|    Medical Incident|2843475|\n|      Structure Fire| 578998|\n|              Alarms| 483518|\n|   Traffic Collision| 175507|\n|Citizen Assist / ...|  65360|\n|               Other|  56961|\n|        Outside Fire|  51603|\n|        Vehicle Fire|  20939|\n|        Water Rescue|  20037|\n|Gas Leak (Natural...|  17284|\n|   Electrical Hazard|  12608|\n|Elevator / Escala...|  11851|\n|Odor (Strange / U...|  11680|\n|Smoke Investigati...|   9796|\n|          Fuel Spill|   5198|\n|              HazMat|   3437|\n|Industrial Accidents|   2401|\n|           Explosion|   2307|\n|  Aircraft Emergency|   1196|\n|Train / Rail Inci...|   1116|\n+--------------------+-------+\nonly showing top 20 rows\n\n"
     ]
    }
   ],
   "source": [
    "fire_df.select(\"CallType\") \\\n",
    "    .where(\"CallType is not null\") \\\n",
    "    .groupBy(\"CallType\") \\\n",
    "    .count() \\\n",
    "    .orderBy(\"count\", ascending=False) \\\n",
    "    .show()"
   ]
  },
  {
   "cell_type": "markdown",
   "metadata": {
    "application/vnd.databricks.v1+cell": {
     "cellMetadata": {},
     "inputWidgets": {},
     "nuid": "05668ab2-6c49-46f7-bf75-05bcaa7ca666",
     "showTitle": false,
     "title": ""
    }
   },
   "source": [
    "##### Q5. What zip codes accounted for most common calls?\n",
    "```sql\n",
    "select CallType, ZipCode, count(*) as count\n",
    "from fire_service_calls_tbl\n",
    "where CallType is not null\n",
    "group by CallType, Zipcode\n",
    "order by count desc\n",
    "```"
   ]
  },
  {
   "cell_type": "code",
   "execution_count": 0,
   "metadata": {
    "application/vnd.databricks.v1+cell": {
     "cellMetadata": {
      "byteLimit": 2048000,
      "rowLimit": 10000
     },
     "inputWidgets": {},
     "nuid": "c88d0eb0-fd17-424e-bc49-d0a2231d7d06",
     "showTitle": false,
     "title": ""
    }
   },
   "outputs": [
    {
     "output_type": "stream",
     "name": "stdout",
     "output_type": "stream",
     "text": [
      "+----------------+-------+------+\n|        CallType|ZipCode| count|\n+----------------+-------+------+\n|Medical Incident|  94102|401457|\n|Medical Incident|  94103|370215|\n|Medical Incident|  94110|249279|\n|Medical Incident|  94109|238087|\n|Medical Incident|  94124|147564|\n|Medical Incident|  94112|139565|\n|Medical Incident|  94115|120087|\n|Medical Incident|  94122|107602|\n|Medical Incident|  94107|107439|\n|Medical Incident|  94133| 99050|\n|Medical Incident|  94117| 92744|\n|Medical Incident|  94134| 83569|\n|Medical Incident|  94114| 82378|\n|Medical Incident|  94118| 77817|\n|Medical Incident|  94121| 74943|\n|Medical Incident|  94116| 66742|\n|Medical Incident|  94132| 64439|\n|  Structure Fire|  94110| 57014|\n|Medical Incident|  94105| 56909|\n|  Structure Fire|  94103| 55529|\n+----------------+-------+------+\nonly showing top 20 rows\n\n"
     ]
    }
   ],
   "source": [
    "q5_df = fire_df.select(\"ZipCode\", \"CallType\") \\\n",
    "               .where(\"CallType is not null\") \\\n",
    "               .groupBy(\"CallType\", \"ZipCode\") \\\n",
    "               .count() \\\n",
    "               .orderBy(\"count\", ascending=False) \\\n",
    "               .show()"
   ]
  },
  {
   "cell_type": "markdown",
   "metadata": {
    "application/vnd.databricks.v1+cell": {
     "cellMetadata": {},
     "inputWidgets": {},
     "nuid": "48e6bc0a-bcec-4d20-a165-9079aa74adb2",
     "showTitle": false,
     "title": ""
    }
   },
   "source": [
    "##### Q6. What San Francisco neighborhoods are in the zip codes 94102 and 94103\n",
    "```sql\n",
    "select distinct Neighborhood, Zipcode\n",
    "from fire_service_calls_tbl\n",
    "where Zipcode== 94102 or Zipcode == 94103\n",
    "```"
   ]
  },
  {
   "cell_type": "code",
   "execution_count": 0,
   "metadata": {
    "application/vnd.databricks.v1+cell": {
     "cellMetadata": {
      "byteLimit": 2048000,
      "rowLimit": 10000
     },
     "inputWidgets": {},
     "nuid": "21ff24e5-845d-42ad-bba1-157f7cb1dab0",
     "showTitle": false,
     "title": ""
    }
   },
   "outputs": [
    {
     "output_type": "stream",
     "name": "stdout",
     "output_type": "stream",
     "text": [
      "+--------------------+-------+\n|        Neighborhood|ZipCode|\n+--------------------+-------+\n|    Western Addition|  94102|\n|          Tenderloin|  94102|\n|            Nob Hill|  94102|\n|             Mission|  94102|\n|     South of Market|  94102|\n|Financial Distric...|  94102|\n|        Hayes Valley|  94102|\n|        Potrero Hill|  94103|\n| Castro/Upper Market|  94103|\n|     South of Market|  94103|\n|        Hayes Valley|  94103|\n|         Mission Bay|  94103|\n|          Tenderloin|  94103|\n|Financial Distric...|  94103|\n|             Mission|  94103|\n+--------------------+-------+\n\n"
     ]
    }
   ],
   "source": [
    "q6_df = fire_df.select(\"Neighborhood\", \"ZipCode\")\\\n",
    "                .where(\"Zipcode == 94102 or Zipcode == 94103\")\\\n",
    "                    .distinct()\\\n",
    "                        .orderBy(\"ZipCode\")\\\n",
    "                            .show()"
   ]
  },
  {
   "cell_type": "markdown",
   "metadata": {
    "application/vnd.databricks.v1+cell": {
     "cellMetadata": {},
     "inputWidgets": {},
     "nuid": "bb33f91e-0d67-414b-b056-88fc38b6a6bd",
     "showTitle": false,
     "title": ""
    }
   },
   "source": [
    "##### Q7. What was the sum of all calls, average, min and max of the response times for calls?\n",
    "```sql\n",
    "select sum(NumAlarms), avg(Delay), min(Delay), max(Delay)\n",
    "from fire_service_calls_tbl\n",
    "```"
   ]
  },
  {
   "cell_type": "code",
   "execution_count": 0,
   "metadata": {
    "application/vnd.databricks.v1+cell": {
     "cellMetadata": {
      "byteLimit": 2048000,
      "rowLimit": 10000
     },
     "inputWidgets": {},
     "nuid": "aa54b23f-6b28-4b07-80c8-38c319216d11",
     "showTitle": false,
     "title": ""
    }
   },
   "outputs": [
    {
     "output_type": "stream",
     "name": "stdout",
     "output_type": "stream",
     "text": [
      "+----------+---------+---------+---------+\n|sum_Alarms|avg_Delay|min_Delay|max_Delay|\n+----------+---------+---------+---------+\n|   4403441|      3.9|     0.02|  1879.62|\n+----------+---------+---------+---------+\n\n"
     ]
    }
   ],
   "source": [
    "q7_df = fire_df.select(sum('NumAlarms').alias('sum_Alarms'), round(avg('Delay'), 2).alias('avg_Delay'), round(min('Delay'), 2).alias('min_Delay'), round(max('Delay'), 2).alias('max_Delay')).show()"
   ]
  },
  {
   "cell_type": "markdown",
   "metadata": {
    "application/vnd.databricks.v1+cell": {
     "cellMetadata": {},
     "inputWidgets": {},
     "nuid": "8894d83e-905c-4b33-85ba-a85c0b41b5cb",
     "showTitle": false,
     "title": ""
    }
   },
   "source": [
    "##### Q8. How many distinct years of data is in the CSV file?\n",
    "```sql\n",
    "select distinct year(to_timestamp(CallDate, \"MM/dd/yyyy\")) as year_num\n",
    "from fire_service_calls_tbl\n",
    "order by year_num\n",
    "```"
   ]
  },
  {
   "cell_type": "code",
   "execution_count": 0,
   "metadata": {
    "application/vnd.databricks.v1+cell": {
     "cellMetadata": {
      "byteLimit": 2048000,
      "rowLimit": 10000
     },
     "inputWidgets": {},
     "nuid": "cc09d106-3298-459a-905a-7efaea20437a",
     "showTitle": false,
     "title": ""
    }
   },
   "outputs": [
    {
     "output_type": "stream",
     "name": "stdout",
     "output_type": "stream",
     "text": [
      "+--------+\n|num_Year|\n+--------+\n|    2000|\n|    2001|\n|    2002|\n|    2003|\n|    2004|\n|    2005|\n|    2006|\n|    2007|\n|    2008|\n|    2009|\n|    2010|\n|    2011|\n|    2012|\n|    2013|\n|    2014|\n|    2015|\n|    2016|\n|    2017|\n|    2018|\n+--------+\n\n"
     ]
    }
   ],
   "source": [
    "q8_df = fire_df.select(year('CallDate').alias('num_Year'))\\\n",
    "                .distinct()\\\n",
    "                    .orderBy('num_Year')\\\n",
    "                        .show()"
   ]
  },
  {
   "cell_type": "markdown",
   "metadata": {
    "application/vnd.databricks.v1+cell": {
     "cellMetadata": {},
     "inputWidgets": {},
     "nuid": "b52c7b9e-6493-4572-85e0-4bd5e8534372",
     "showTitle": false,
     "title": ""
    }
   },
   "source": [
    "##### Q9. What week of the year in 2018 had the most fire calls?\n",
    "```sql\n",
    "select weekofyear(to_timestamp(CallDate, \"MM/dd/yyyy\")) week_year, count(*) as count\n",
    "from fire_service_calls_tbl \n",
    "where year(to_timestamp(CallDate, \"MM/dd/yyyy\")) == 2018\n",
    "group by week_year\n",
    "order by count desc\n",
    "```"
   ]
  },
  {
   "cell_type": "code",
   "execution_count": 0,
   "metadata": {
    "application/vnd.databricks.v1+cell": {
     "cellMetadata": {
      "byteLimit": 2048000,
      "rowLimit": 10000
     },
     "inputWidgets": {},
     "nuid": "f8aa82ee-5140-4e78-9d78-35b0c8d40385",
     "showTitle": false,
     "title": ""
    }
   },
   "outputs": [
    {
     "output_type": "stream",
     "name": "stdout",
     "output_type": "stream",
     "text": [
      "+---------+-----+\n|week_year|count|\n+---------+-----+\n|        1| 6401|\n|       25| 6163|\n|       13| 6103|\n|       22| 6060|\n|       44| 6048|\n|       27| 6042|\n|       16| 6009|\n|       40| 6000|\n|       43| 5986|\n|        5| 5946|\n|        2| 5929|\n|       18| 5917|\n|        9| 5874|\n|        8| 5843|\n|        6| 5839|\n|       21| 5821|\n|       38| 5817|\n|       10| 5806|\n|       23| 5781|\n|       32| 5764|\n+---------+-----+\nonly showing top 20 rows\n\n"
     ]
    }
   ],
   "source": [
    "q9_df = fire_df.select(weekofyear('CallDate').alias('week_year'))\\\n",
    "                .where(year('CallDate') == 2018)\\\n",
    "                    .groupBy('week_year')\\\n",
    "                        .count()\\\n",
    "                            .orderBy('count', ascending=False)\\\n",
    "                                .show()"
   ]
  },
  {
   "cell_type": "markdown",
   "metadata": {
    "application/vnd.databricks.v1+cell": {
     "cellMetadata": {},
     "inputWidgets": {},
     "nuid": "63144f63-f0e7-4361-97ca-78173498fc2f",
     "showTitle": false,
     "title": ""
    }
   },
   "source": [
    "##### Q10. What neighborhoods in San Francisco had the worst response time in 2018?\n",
    "```sql\n",
    "select Neighborhood, Delay\n",
    "from fire_service_calls_tbl \n",
    "where year(to_timestamp(CallDate, \"MM/dd/yyyy\")) == 2018\n",
    "```"
   ]
  },
  {
   "cell_type": "code",
   "execution_count": 0,
   "metadata": {
    "application/vnd.databricks.v1+cell": {
     "cellMetadata": {
      "byteLimit": 2048000,
      "rowLimit": 10000
     },
     "inputWidgets": {},
     "nuid": "c03714de-f4af-407f-9227-dae8df634a4a",
     "showTitle": false,
     "title": ""
    }
   },
   "outputs": [
    {
     "output_type": "stream",
     "name": "stdout",
     "output_type": "stream",
     "text": [
      "+--------------------+------+\n|        Neighborhood| Delay|\n+--------------------+------+\n|  West of Twin Peaks|754.08|\n|             Mission|745.93|\n|           Chinatown|734.87|\n|Bayview Hunters P...|715.77|\n|Bayview Hunters P...|714.73|\n|Bayview Hunters P...|713.05|\n|Bayview Hunters P...| 700.0|\n|             Mission|669.42|\n|Bayview Hunters P...|609.08|\n| Castro/Upper Market|561.17|\n|  West of Twin Peaks|539.98|\n|      Outer Richmond|508.85|\n|           Chinatown|506.95|\n|           Chinatown|491.45|\n|           Chinatown|491.27|\n|           Chinatown|490.03|\n|           Chinatown| 485.8|\n|     Sunset/Parkside| 457.4|\n|Financial Distric...|419.73|\n|Financial Distric...|419.63|\n+--------------------+------+\nonly showing top 20 rows\n\n"
     ]
    }
   ],
   "source": [
    "q10_df = fire_df.select('Neighborhood', 'Delay')\\\n",
    "                    .where(year('CallDate')==2018)\\\n",
    "                        .orderBy('Delay', ascending=False)\\\n",
    "                            .show()"
   ]
  }
 ],
 "metadata": {
  "application/vnd.databricks.v1+notebook": {
   "dashboards": [],
   "environmentMetadata": null,
   "language": "python",
   "notebookMetadata": {
    "pythonIndentUnit": 4
   },
   "notebookName": "spark_df_transform",
   "widgets": {}
  }
 },
 "nbformat": 4,
 "nbformat_minor": 0
}
